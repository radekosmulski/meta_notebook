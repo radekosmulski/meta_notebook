{
 "cells": [
  {
   "cell_type": "markdown",
   "metadata": {},
   "source": [
    "# core\n",
    "\n",
    "> Use code in notebooks as lego bricks to construct something awesome!"
   ]
  },
  {
   "cell_type": "code",
   "execution_count": null,
   "metadata": {},
   "outputs": [],
   "source": [
    "#| default_exp core"
   ]
  },
  {
   "cell_type": "code",
   "execution_count": null,
   "metadata": {},
   "outputs": [],
   "source": [
    "#| export\n",
    "\n",
    "from execnb.nbio import *\n",
    "from execnb.shell import *\n",
    "\n",
    "from fastcore.all import *"
   ]
  },
  {
   "cell_type": "code",
   "execution_count": null,
   "metadata": {},
   "outputs": [],
   "source": [
    "#| hide\n",
    "from nbdev.showdoc import *"
   ]
  },
  {
   "cell_type": "code",
   "execution_count": null,
   "metadata": {},
   "outputs": [],
   "source": [
    "#| export\n",
    "\n",
    "@patch\n",
    "def print_vars(self: CaptureShell):\n",
    "    '''print user defined variables'''\n",
    "    names = list(self.user_global_ns.keys())[18:]\n",
    "    print(sorted(names))\n",
    "    \n",
    "@patch\n",
    "def run_cells(self: CaptureShell, cells):\n",
    "    for cell in cells:\n",
    "        self.cell(cell)\n",
    "        if hasattr(cell, 'outputs') and len(cell.outputs) > 0 and cell.outputs[0].output_type == 'error':\n",
    "            raise RuntimeError(f'#{cell[\"idx_\"]}: {cell.outputs[0].ename} {cell.outputs[0].evalue}')\n",
    "\n",
    "class VarManager():\n",
    "    def __init__(self, cs):\n",
    "        self.cs = cs\n",
    "    def __getitem__(self, name):\n",
    "        return self.cs.user_global_ns[name]\n",
    "    def __setitem__(self, name, val):\n",
    "        if name == 'cs':\n",
    "            super().__setattr__(name, val)\n",
    "        else:\n",
    "            self.cs.run(f'{name} = {val}')\n",
    "\n",
    "class CaptureShellExt(CaptureShell):\n",
    "    '''CaptureShell with additional functionality'''\n",
    "    def __init__(self):\n",
    "        super().__init__()\n",
    "        self.var = VarManager(self) "
   ]
  },
  {
   "cell_type": "markdown",
   "metadata": {},
   "source": [
    "`run_cells` stop execution on an error and raises an error with an informative message"
   ]
  },
  {
   "cell_type": "code",
   "execution_count": null,
   "metadata": {},
   "outputs": [],
   "source": [
    "nb = new_nb(cells=[mk_cell('a = 1'), mk_cell('a / 0'), mk_cell('print(\"hi\")')])\n",
    "cs = CaptureShell()\n",
    "\n",
    "test_fail(lambda: cs.run_cells(nb.cells), contains='ZeroDivisionError')"
   ]
  },
  {
   "cell_type": "code",
   "execution_count": null,
   "metadata": {},
   "outputs": [],
   "source": [
    "#| export\n",
    "\n",
    "class Notebook():\n",
    "    def __init__(self, path):\n",
    "        self.nb = read_nb(path)\n",
    "    \n",
    "    @property\n",
    "    def cells(self):\n",
    "        return self.nb.cells\n",
    "    \n",
    "    def find(self, tag):\n",
    "        '''finds the first occurence of `tag` (any string) in the notebook'''\n",
    "        for i, cell in enumerate(self.cells):\n",
    "            if tag in cell.source:\n",
    "                return i\n",
    "        \n",
    "    def cells_to(self, tag):\n",
    "        '''cells from the beginning of the notebook to `tag` (inclusive of tag)'''\n",
    "        return self.cells[:self.find(tag)+1]\n",
    "    \n",
    "    def cells_from(self, tag):\n",
    "        '''cells from `tag` to the end of the notebook  (inclusive of tag)'''\n",
    "        return self.cells[self.find(tag):]\n",
    "    \n",
    "    def between(self, tag1, tag2):\n",
    "        '''return cells between frist occurrence of `tag1` and `tag2` (inclusive of endpoints)'''\n",
    "        tag1_pos = self.find(tag1)\n",
    "        tag2_pos = self.find(tag2)\n",
    "        \n",
    "        return self.cells[tag1_pos:tag2_pos]"
   ]
  },
  {
   "cell_type": "code",
   "execution_count": null,
   "metadata": {},
   "outputs": [],
   "source": [
    "#| hide\n",
    "import nbdev; nbdev.nbdev_export()"
   ]
  }
 ],
 "metadata": {
  "kernelspec": {
   "display_name": "Python 3 (ipykernel)",
   "language": "python",
   "name": "python3"
  }
 },
 "nbformat": 4,
 "nbformat_minor": 4
}
